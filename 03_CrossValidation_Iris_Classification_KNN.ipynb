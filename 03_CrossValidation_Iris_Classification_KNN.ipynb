{
  "nbformat": 4,
  "nbformat_minor": 0,
  "metadata": {
    "colab": {
      "provenance": []
    },
    "kernelspec": {
      "name": "python3",
      "display_name": "Python 3"
    }
  },
  "cells": [
    {
      "cell_type": "markdown",
      "metadata": {
        "id": "P7EJD3T2kOL8"
      },
      "source": [
        "# Validacao Cruzada com KNN e Iris Dataset"
      ]
    },
    {
      "cell_type": "markdown",
      "metadata": {
        "id": "XW2lJJiykiVO"
      },
      "source": [
        "## Repetindo o que jah fizemos outras vezes"
      ]
    },
    {
      "cell_type": "markdown",
      "metadata": {
        "id": "GXDxwRj7kt1r"
      },
      "source": [
        "#### Carga de dados, split, instanciacao do knn, fit, predict\n",
        "\n",
        "Basta acrescentar uma linha de codigo (predicao)"
      ]
    },
    {
      "cell_type": "code",
      "metadata": {
        "id": "4zhpI9QVg31F"
      },
      "source": [
        "from sklearn.datasets import load_iris\n",
        "from sklearn.model_selection import train_test_split\n",
        "from sklearn.neighbors import KNeighborsClassifier\n",
        "\n",
        "iris = load_iris()\n",
        "X = iris.data\n",
        "y = iris.target\n",
        "X_train, X_test, y_train, y_test = train_test_split(X, y, random_state=4)\n",
        "\n",
        "knn = KNeighborsClassifier(n_neighbors = 5)\n",
        "knn.fit(X_train, y_train)\n",
        "y_pred = knn.predict(X_test)"
      ],
      "execution_count": null,
      "outputs": []
    },
    {
      "cell_type": "markdown",
      "metadata": {
        "id": "lBD_vAZClNeb"
      },
      "source": [
        "#### Calcular a acuracia com metodo score(x de teste , y de teste) do modelo\n",
        "Resultado: 0.9736842105263158"
      ]
    },
    {
      "cell_type": "code",
      "metadata": {
        "id": "M97FFb4Wlc4C",
        "outputId": "5add32fe-3d71-436d-c883-3b240952c8a8",
        "colab": {
          "base_uri": "https://localhost:8080/"
        }
      },
      "source": [
        "#from sklearn.metrics import accuracy_score\n",
        "#accuracy = accuracy_score(y_test, y_pred)\n",
        "accuracy = knn.score(X_test, y_test)\n",
        "print(accuracy)"
      ],
      "execution_count": null,
      "outputs": [
        {
          "output_type": "stream",
          "name": "stdout",
          "text": [
            "0.9736842105263158\n"
          ]
        }
      ]
    },
    {
      "cell_type": "markdown",
      "metadata": {
        "id": "33IyxGO-2A9A"
      },
      "source": [
        "## Usando KFold do Scikit Learn"
      ]
    },
    {
      "cell_type": "markdown",
      "metadata": {
        "id": "e25cyeP-2JQa"
      },
      "source": [
        "### Imprimir indices da divisao (Exemplo 1)\n",
        "\n",
        "Vamos dividir o conjunto de treino com 2 splits"
      ]
    },
    {
      "cell_type": "code",
      "metadata": {
        "id": "V0H7cj3M2LOS",
        "outputId": "66cce39a-8e69-4e0d-dc19-333915eadd0d",
        "colab": {
          "base_uri": "https://localhost:8080/"
        }
      },
      "source": [
        "import numpy as np\n",
        "from sklearn.model_selection import KFold\n",
        "\n",
        "# gerando dados ficticios\n",
        "X = np.array([[1, 2], [3, 4], [1, 2], [3, 4], [5, 6]])\n",
        "y = np.array([1, 2, 3, 4, 5])\n",
        "\n",
        "kf = KFold(n_splits = 2) #TODO definir a quantidade de splits (n_splits)\n",
        "for train_index, test_index in kf.split(X): #TODO definir o conjunto de dados a ser dividido\n",
        "    print(\"TRAIN:\", train_index, \"TEST:\", test_index)"
      ],
      "execution_count": null,
      "outputs": [
        {
          "output_type": "stream",
          "name": "stdout",
          "text": [
            "TRAIN: [3 4] TEST: [0 1 2]\n",
            "TRAIN: [0 1 2] TEST: [3 4]\n"
          ]
        }
      ]
    },
    {
      "cell_type": "markdown",
      "metadata": {
        "id": "qsBp1HbIBZVl"
      },
      "source": [
        "### Imprimir indices da divisao (Exemplo 2 - com shuffle)\n",
        "\n",
        "Faremos novamente 2 splits\n",
        "\n",
        "Utilizar os dados ficticios jah gerados (variavel X)\n",
        "\n",
        "Ao instanciar o KFold, informe shuffle = True e um Random State (sugestao: 4312)\n",
        "\n",
        "Observe a diferenca em relacao ao anterior"
      ]
    },
    {
      "cell_type": "code",
      "metadata": {
        "id": "--JrOCPG__rX",
        "outputId": "6b02df27-c57a-4f1f-93c0-4f806e233b76",
        "colab": {
          "base_uri": "https://localhost:8080/"
        }
      },
      "source": [
        "kf = KFold(n_splits = 2, shuffle = True, random_state = 4312) #TODO adicionar parametros\n",
        "for train_index, test_index in kf.split(X):\n",
        "    print(\"TRAIN:\", train_index, \"TEST:\", test_index)"
      ],
      "execution_count": null,
      "outputs": [
        {
          "output_type": "stream",
          "name": "stdout",
          "text": [
            "TRAIN: [0 3] TEST: [1 2 4]\n",
            "TRAIN: [1 2 4] TEST: [0 3]\n"
          ]
        }
      ]
    },
    {
      "cell_type": "markdown",
      "metadata": {
        "id": "m7RYidANCvrG"
      },
      "source": [
        "### Definir X_train, X_test, y_train, y_test em cada iteracao no laco\n",
        "\n",
        "Utilizar os dados ficticios jah gerados (variavel X)"
      ]
    },
    {
      "cell_type": "code",
      "metadata": {
        "id": "orIO6JC3A_V5"
      },
      "source": [
        "f = KFold(n_splits = 2, shuffle = True, random_state = 4312) #TODO adicionar parametros (com shuffle e random state)\n",
        "for train_index, test_index in kf.split(X):\n",
        "    X_train, X_test = X[train_index], X[test_index]\n",
        "    y_train, y_test = y[train_index], y[test_index]"
      ],
      "execution_count": null,
      "outputs": []
    },
    {
      "cell_type": "markdown",
      "metadata": {
        "id": "JzOhR2PCC-Z8"
      },
      "source": [
        "### Calcular a acuracia para 5 particoes diferentes do Iris Dataset (com KNN)\n",
        "\n",
        "KNeighborsClassifier(n_neighbors = 5)\n",
        "\n",
        "n_splits = 5 (com shuffle)\n",
        "\n",
        "Cuidado: Atualizar X e y antes de particionar (com os dados Iris)\n",
        "\n",
        "Imprimir a acuracia com print(knn.score(....))\n",
        "\n",
        "Resultados:\n",
        "\n",
        "0.9666666666666667\n",
        "\n",
        "0.9666666666666667\n",
        "\n",
        "0.9666666666666667\n",
        "\n",
        "0.9333333333333333\n",
        "\n",
        "1.0"
      ]
    },
    {
      "cell_type": "code",
      "metadata": {
        "id": "XoRnfaHvDuyN",
        "outputId": "476f9381-ce5a-4594-8b35-4ba2f8845184",
        "colab": {
          "base_uri": "https://localhost:8080/"
        }
      },
      "source": [
        "knn = KNeighborsClassifier(n_neighbors = 6)\n",
        "X = iris.data\n",
        "y = iris.target\n",
        "kf = KFold(n_splits = 5, shuffle = True, random_state = 4312)\n",
        "for train_index, test_index in kf.split(X):\n",
        "    X_train, X_test = X[train_index], X[test_index]\n",
        "    y_train, y_test = y[train_index], y[test_index]\n",
        "    knn.fit(X_train, y_train)\n",
        "    print(knn.score(X_test, y_test))"
      ],
      "execution_count": null,
      "outputs": [
        {
          "output_type": "stream",
          "name": "stdout",
          "text": [
            "0.9666666666666667\n",
            "0.9666666666666667\n",
            "0.9666666666666667\n",
            "0.9666666666666667\n",
            "1.0\n"
          ]
        }
      ]
    },
    {
      "cell_type": "markdown",
      "metadata": {
        "id": "v2LxQZNxkpYL"
      },
      "source": [
        "## Calcular a acuracia para 5 particoes diferentes\n",
        "\n",
        "Utilizando a funcao cross_val_score"
      ]
    },
    {
      "cell_type": "markdown",
      "metadata": {
        "id": "4dhih6JQm2ZS"
      },
      "source": [
        "### Imports e modelo"
      ]
    },
    {
      "cell_type": "code",
      "metadata": {
        "id": "CRNgtng-hUoO"
      },
      "source": [
        "from sklearn.model_selection import cross_val_score\n",
        "knn = KNeighborsClassifier(n_neighbors = 5)"
      ],
      "execution_count": null,
      "outputs": []
    },
    {
      "cell_type": "markdown",
      "metadata": {
        "id": "Fbq_J5FZm8rb"
      },
      "source": [
        "### Definindo a configuracao do experimento\n",
        "Usar funcao cross_val_score(modelo, valores das features treino, valores dos rotulos para treino, cv=numerodeparticoes, scoring='accuracy')\n",
        "\n",
        "Vamos fazer 5 particoes, ok?\n",
        "\n",
        "Atribuir resultado a uma variavel\n",
        "\n",
        "Imprima valor da variavel (sao 5 scores) e a media desses scores.\n",
        "\n",
        "scores = [ 0.96666667  1.          0.93333333  0.96666667  1.        ]\n",
        "\n",
        "mean = 0.973333333333\n",
        "\n"
      ]
    },
    {
      "cell_type": "code",
      "metadata": {
        "id": "Yk0n5gsinF1s",
        "outputId": "d4469746-771a-4530-f44b-2ab8c5b311e1",
        "colab": {
          "base_uri": "https://localhost:8080/"
        }
      },
      "source": [
        "scores = cross_val_score(knn, X, y, cv = 5, scoring = \"accuracy\")\n",
        "print(scores)\n",
        "print(scores.mean()) # Média"
      ],
      "execution_count": null,
      "outputs": [
        {
          "output_type": "stream",
          "name": "stdout",
          "text": [
            "[0.96666667 1.         0.93333333 0.96666667 1.        ]\n",
            "0.9733333333333334\n"
          ]
        }
      ]
    },
    {
      "cell_type": "markdown",
      "metadata": {
        "id": "jGlSnAaCqpEO"
      },
      "source": [
        "#### Gerar um grafico de linha para analisar o score medio com diversos valores de k"
      ]
    },
    {
      "cell_type": "code",
      "metadata": {
        "id": "jZJ8VaL4h13j",
        "outputId": "ddee2825-8497-4197-b6f0-49730a8ff66d",
        "colab": {
          "base_uri": "https://localhost:8080/",
          "height": 449
        }
      },
      "source": [
        "import matplotlib.pyplot as plt\n",
        "%matplotlib inline\n",
        "\n",
        "# k variando de 1 a 30\n",
        "k_range = range(1, 31)\n",
        "k_scores = []\n",
        "\n",
        "for k in k_range:\n",
        "    knn = KNeighborsClassifier(n_neighbors=k)\n",
        "    scores = cross_val_score(knn, X, y, cv = 5, scoring = \"accuracy\")\n",
        "    k_scores.append(scores.mean())\n",
        "\n",
        "plt.plot(k_range, k_scores)\n",
        "plt.xlabel('Valor de K para KNN')\n",
        "plt.ylabel('Acuracia da Validacao Cruzada')\n",
        "plt.show()"
      ],
      "execution_count": null,
      "outputs": [
        {
          "output_type": "display_data",
          "data": {
            "text/plain": [
              "<Figure size 640x480 with 1 Axes>"
            ],
            "image/png": "[encoded data removed]"
          },
          "metadata": {}
        }
      ]
    }
  ]
}